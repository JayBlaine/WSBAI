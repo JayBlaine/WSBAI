{
  "nbformat": 4,
  "nbformat_minor": 0,
  "metadata": {
    "colab": {
      "name": "WSBAI.ipynb",
      "provenance": [],
      "collapsed_sections": [],
      "include_colab_link": true
    },
    "kernelspec": {
      "name": "python3",
      "display_name": "Python 3"
    },
    "language_info": {
      "name": "python"
    }
  },
  "cells": [
    {
      "cell_type": "markdown",
      "metadata": {
        "id": "view-in-github",
        "colab_type": "text"
      },
      "source": [
        "<a href=\"https://colab.research.google.com/github/JayBlaine/WSBAI/blob/main/WSBAI.ipynb\" target=\"_parent\"><img src=\"https://colab.research.google.com/assets/colab-badge.svg\" alt=\"Open In Colab\"/></a>"
      ]
    },
    {
      "cell_type": "markdown",
      "metadata": {
        "id": "oSwJMdWluSex"
      },
      "source": [
        "Regression model"
      ]
    },
    {
      "cell_type": "markdown",
      "metadata": {
        "id": "IHeHu1uERD29"
      },
      "source": [
        "Code section for reading GMEs stock data\n"
      ]
    },
    {
      "cell_type": "code",
      "metadata": {
        "id": "x-hcxPujnnCi"
      },
      "source": [
        "import pandas as pd\n",
        "import numpy as np\n",
        "import pandas_datareader as web\n",
        "import datetime as dt\n",
        "from sklearn.preprocessing import MinMaxScaler\n",
        "from keras.models import Sequential\n",
        "from keras.layers import Dense, LSTM, Dropout\n",
        "import matplotlib.pyplot as plt\n",
        "import csv, math, os\n",
        "\n",
        "def main():\n",
        "    stonk = \"GME\"\n",
        "    start = dt.datetime(2021, 1, 1)\n",
        "    end = dt.datetime.today()\n",
        "\n",
        "    data = web.DataReader(stonk,'stooq', start, end).reset_index()\n",
        "    data.drop('High', 1, inplace=True)\n",
        "    data.drop('Low', 1, inplace=True)\n",
        "\n",
        "    data = data.to_csv(r'./stonkdata.csv', index=False, header=True)\n",
        "    \n",
        "if __name__ == '__main__':\n",
        "    main()"
      ],
      "execution_count": 1,
      "outputs": []
    },
    {
      "cell_type": "markdown",
      "metadata": {
        "id": "jWdM3Pl_b6gG"
      },
      "source": [
        ""
      ]
    },
    {
      "cell_type": "code",
      "metadata": {
        "id": "IEyY5U8DUgGM"
      },
      "source": [
        "# WSB data set read\n",
        "# DO NOT RUN AFTER LIVE SCRAPE STARTS\n",
        "# SERIOUSLY, YOU WILL RUIN DATASET ONCE LIVE SCRAPING BEGINS\n",
        "\n",
        "def gmeChecker(title, body):\n",
        "  gmeKeys = ['gme', 'gamestop', 'dfv', 'deep fucking value', 'citadel', 'ken griffin', 'keith', 'gill', 'roaring kitty', 'if he\\'s in', 'if hes in']\n",
        "  title = title.strip().lower()\n",
        "  body = body.strip().lower()\n",
        "  for key in gmeKeys:\n",
        "    # body and title\n",
        "    if key in title or key in body:\n",
        "      return True\n",
        "  return False\n",
        "\n",
        "def dateChecker(date1):\n",
        "  dtTemp = dt.datetime.strptime(date1, '%Y-%m-%d %H:%M:%S')\n",
        "  actDate = dtTemp.date()\n",
        "  return actDate\n",
        "\n",
        "dateStockData = []\n",
        "dateStockData = pd.read_csv('./stonkdata.csv', usecols=['Date', 'Open', 'Close'])\n",
        "newD = pd.DataFrame(dateStockData)\n",
        "newD = newD.iloc[::-1]\n",
        "lineCount = len(dateStockData)\n",
        "\n",
        "# date, reddit total posts, gme total posts, ratio of gme to total, \n",
        "# avg score of reddit posts, average score of gme posts, avg comments total, avg comments gme\n",
        "byDate = {}\n",
        "\n",
        "# https://www.kaggle.com/gpreda/reddit-wallstreetsbets-posts\n",
        "wsbDataframe = pd.read_csv(\"reddit_wsb.csv\")\n",
        "\n",
        "with open('reddit_wsb.csv') as csv_file: \n",
        "    csv_reader = csv.reader(csv_file, delimiter=',')\n",
        "    line_count = 0\n",
        "    for row in csv_reader:\n",
        "      if line_count > 1:\n",
        "        tempTitle = row[0]\n",
        "        tempScore = row[1]\n",
        "        tempCommNum = row[4]\n",
        "        tempBody = row[6]\n",
        "        tempDate = row[7]\n",
        "        tempPass = [tempTitle, tempScore, tempCommNum, tempBody, tempDate]\n",
        "        date1 = dateChecker(tempDate)\n",
        "\n",
        "        if date1 not in byDate.keys():\n",
        "          byDate[date1] = []\n",
        "          byDate[date1].append(tempPass)\n",
        "        else:\n",
        "          byDate[date1].append(tempPass)\n",
        "      line_count+=1\n",
        "\n",
        "redditPrelim = []\n",
        "\n",
        "for key in byDate.keys():\n",
        "  if key.year < 2021: #Gets rid of rogue row at 9/2020\n",
        "      continue\n",
        "  i=0\n",
        "  gmeCnt = 0\n",
        "  gmeCommTotal = 0\n",
        "  gmeUpTotal = 0\n",
        "  while i < len(byDate[key]):\n",
        "    gmeCheck = gmeChecker(byDate[key][i][0], byDate[key][i][3])\n",
        "    if gmeCheck:\n",
        "      gmeCnt+=1\n",
        "      gmeCommTotal+=int(byDate[key][i][2])\n",
        "      gmeUpTotal+=int(byDate[key][i][1])\n",
        "    i+=1\n",
        "  if i > 0 and gmeCnt > 0: # both posts and gme posts\n",
        "    redditPrelim.append([key, i, gmeCnt, gmeCnt/i, gmeUpTotal/gmeCnt, gmeCommTotal/gmeCnt])\n",
        "  elif i > 0: # no gme posts\n",
        "    redditPrelim.append([key, i, gmeCnt, gmeCnt/i, 0, 0])\n",
        "  else: # no posts\n",
        "    continue\n",
        "\n",
        "# print(redditPrelim)\n",
        "columns = dateStockData.filter([\"Date\"]).values\n",
        "with open('wsb_clean.csv', mode='w') as write_file:\n",
        "    writer = csv.writer(write_file, delimiter=',', quotechar='\"', quoting=csv.QUOTE_MINIMAL)\n",
        "    i=0\n",
        "    date=0\n",
        "    #TODO\n",
        "    writer.writerow(['Date', 'open', 'close', 'total posts', 'GME count', '% GME', 'avg GME upvotes', 'avg GME comments'])\n",
        "    while i < len(redditPrelim):\n",
        "      if str(redditPrelim[i][0]) in columns:\n",
        "        writer.writerow([redditPrelim[i][0], dateStockData['Open'][date], dateStockData['Close'][date], redditPrelim[i][1], \n",
        "                         redditPrelim[i][2], redditPrelim[i][3], redditPrelim[i][4], redditPrelim[i][5]])\n",
        "        date+=1\n",
        "      i+=1\n",
        "\n"
      ],
      "execution_count": 2,
      "outputs": []
    },
    {
      "cell_type": "markdown",
      "metadata": {
        "id": "a3w25VE4GRpV"
      },
      "source": [
        "Break"
      ]
    },
    {
      "cell_type": "code",
      "metadata": {
        "colab": {
          "base_uri": "https://localhost:8080/",
          "height": 479
        },
        "id": "68gMUp0j8wai",
        "outputId": "f2e42c07-8aa3-4d3d-ca22-d646a41e3d0c"
      },
      "source": [
        "from __future__ import absolute_import, division, print_function, unicode_literals\n",
        "\n",
        "import numpy as np\n",
        "import pandas as pd\n",
        "import matplotlib.pyplot as plt\n",
        "from IPython.display import clear_output\n",
        "from six.moves import urllib\n",
        "\n",
        "import tensorflow.compat.v2.feature_column as fc\n",
        "\n",
        "import tensorflow as tf\n",
        "\n",
        "testDataSize = 40\n",
        "fullFile = pd.read_csv(\"wsb_clean.csv\")\n",
        "\n",
        "# Load dataset.\n",
        "dftrain = fullFile.head(testDataSize) # training data\n",
        "dfeval = fullFile.iloc[testDataSize:] # testing data\n",
        "\n",
        "\n",
        "\n",
        "dftrain.pop('Date')\n",
        "dfeval.pop('Date')\n",
        "# dftrain.pop('diff')\n",
        "# dfeval.pop('diff')\n",
        "y_train = dftrain.pop('close')\n",
        "y_eval = dfeval.pop('close')\n",
        "#dftrain = dftrain.astype(np.float16)\n",
        "#dfeval = dfeval.astype(np.float16)\n",
        "\n",
        "dataCol = ['open', 'total posts', 'GME count', '% GME', 'avg GME upvotes', 'avg GME comments']\n",
        "\n",
        "feature_col = []\n",
        "\n",
        "for feature in dataCol:\n",
        "  feature_col.append(tf.feature_column.numeric_column(feature, dtype=tf.float32))\n",
        "\n",
        "# print(feature_columns)\n",
        "\n",
        "def make_input_fn(data, label, epochs=10, shuffle=True, batch=16):\n",
        "  def input_function():  # inner function, this will be returned\n",
        "    ds = tf.data.Dataset.from_tensor_slices((dict(data), label))  # create tf.data.Dataset object with data and its label\n",
        "    if shuffle:\n",
        "      ds = ds.shuffle(1000)  # randomize order of data\n",
        "    ds = ds.batch(batch).repeat(epochs)  # split dataset into batches of 32 and repeat process for number of epochs\n",
        "    return ds  # return a batch of the dataset\n",
        "  return input_function  # return a function object for use\n",
        "\n",
        "train_input_fn = make_input_fn(dftrain, y_train)  # here we will call the input_function that was returned to us to get a dataset object we can feed to the model\n",
        "eval_input_fn = make_input_fn(dfeval, y_eval, epochs=1, shuffle=False)\n",
        "\n",
        "linear_est = tf.estimator.LinearRegressor(feature_columns=feature_col)\n",
        "\n",
        "linear_est.train(train_input_fn)  # train\n",
        "result = linear_est.evaluate(eval_input_fn)  # get model metrics/stats by testing on testing data\n",
        "\n",
        "clear_output()  # clears consoke output\n",
        "print(result)  # the result variable is simply a dict of stats about our model\n",
        "\n",
        "\n",
        "pred_dicts = list(linear_est.predict(eval_input_fn))\n",
        "print(pred_dicts)\n",
        "print(len(pred_dicts))\n",
        "probs = pd.Series([pred['predictions'][0] for pred in pred_dicts])\n",
        "\n",
        "probs.plot(kind='hist', bins=20, title='predicted probabilities')"
      ],
      "execution_count": 4,
      "outputs": [
        {
          "output_type": "stream",
          "text": [
            "{'average_loss': 9206.849, 'label/mean': 100.26714, 'loss': 9206.849, 'prediction/mean': 176.09305, 'global_step': 30}\n",
            "INFO:tensorflow:Calling model_fn.\n",
            "INFO:tensorflow:Done calling model_fn.\n",
            "INFO:tensorflow:Graph was finalized.\n",
            "INFO:tensorflow:Restoring parameters from /tmp/tmp_gesk0re/model.ckpt-30\n",
            "INFO:tensorflow:Running local_init_op.\n",
            "INFO:tensorflow:Done running local_init_op.\n",
            "[{'predictions': array([128.11719], dtype=float32)}, {'predictions': array([113.85316], dtype=float32)}, {'predictions': array([171.08595], dtype=float32)}, {'predictions': array([146.5098], dtype=float32)}, {'predictions': array([179.08008], dtype=float32)}, {'predictions': array([217.74069], dtype=float32)}, {'predictions': array([106.51508], dtype=float32)}, {'predictions': array([124.81176], dtype=float32)}, {'predictions': array([102.52598], dtype=float32)}, {'predictions': array([209.85083], dtype=float32)}, {'predictions': array([223.35803], dtype=float32)}, {'predictions': array([231.7871], dtype=float32)}, {'predictions': array([248.3646], dtype=float32)}, {'predictions': array([261.70255], dtype=float32)}]\n",
            "14\n"
          ],
          "name": "stdout"
        },
        {
          "output_type": "execute_result",
          "data": {
            "text/plain": [
              "<matplotlib.axes._subplots.AxesSubplot at 0x7fed36ec5090>"
            ]
          },
          "metadata": {
            "tags": []
          },
          "execution_count": 4
        },
        {
          "output_type": "display_data",
          "data": {
            "image/png": "[encoded data removed]",
            "text/plain": [
              "<Figure size 432x288 with 1 Axes>"
            ]
          },
          "metadata": {
            "tags": [],
            "needs_background": "light"
          }
        }
      ]
    },
    {
      "cell_type": "code",
      "metadata": {
        "id": "MqIZGgGFxK6C"
      },
      "source": [
        "import pandas as pd\n",
        "import numpy as np\n",
        "\n",
        "# Make numpy values easier to read.\n",
        "np.set_printoptions(precision=3, suppress=True)\n",
        "\n",
        "import tensorflow as tf\n",
        "from tensorflow.keras import layers\n",
        "from tensorflow.keras.layers.experimental import preprocessing\n",
        "\n",
        "print(1)"
      ],
      "execution_count": null,
      "outputs": []
    },
    {
      "cell_type": "markdown",
      "metadata": {
        "id": "OD4Xv_5Uyxpv"
      },
      "source": [
        "Creating Guess\n",
        "\n"
      ]
    },
    {
      "cell_type": "code",
      "metadata": {
        "id": "gum5IrJty1D2",
        "colab": {
          "base_uri": "https://localhost:8080/"
        },
        "outputId": "223d7922-4c71-4242-b956-84f7ccac317e"
      },
      "source": [
        "daysToPredict = 20\n",
        "predictionLayers = 64\n",
        "\n",
        "# Open the stock data file\n",
        "stonkData = pd.read_csv('./stonkdata.csv') # format = Date, Open, Close, Volume\n",
        "\n",
        "# Reading only the closing prices\n",
        "# stonkWithDate = stonkData.filter(['Close'], ['Date'])\n",
        "stonkPrices = (stonkData.filter(['Close'])).values\n",
        "dataLength = len(stonkPrices)\n",
        "\n",
        "# If we only want to train half of the data\n",
        "#halfOfData = math.ceil(len(stonkPrices) * 0.5)\n",
        "\n",
        "# Scaling the data / Takes in the stock data and makes it into a number between 0 and 1\n",
        "dataScaler = MinMaxScaler(feature_range=(0,1))\n",
        "scaledData = dataScaler.fit_transform(stonkPrices).reshape(-1,1)\n",
        "\n",
        "# Spliting up the data for x and y training\n",
        "x_train = []\n",
        "y_train = []\n",
        "\n",
        "# Amount we wanted trained using the length of our data\n",
        "for x in range(daysToPredict, dataLength):\n",
        "  x_train.append(scaledData[x - daysToPredict:x, 0])\n",
        "  y_train.append(scaledData[x, 0])\n",
        "  if x <= daysToPredict:\n",
        "    print(f\"X data-----------------\\n{x_train}\\nY data-----------------\\n{y_train}\")\n",
        "\n",
        "x_train = np.array(x_train)\n",
        "y_train = np.array(x_train)\n",
        "\n",
        "# x_train = np.reshape(x_train, dataLength, daysToPredict, 1)\n",
        "x_train = np.reshape(x_train, (x_train.shape[0], x_train.shape[1], 1))\n",
        "\n",
        "print(x_train.shape)\n"
      ],
      "execution_count": null,
      "outputs": [
        {
          "output_type": "stream",
          "text": [
            "X data-----------------\n",
            "[array([0.45200751, 0.3746745 , 0.37497729, 0.42726942, 0.46330164,\n",
            "       0.48664688, 0.50641918, 0.51383758, 0.52746321, 0.52252771,\n",
            "       0.53657724, 0.49672985, 0.49582147, 0.50414825, 0.312148  ,\n",
            "       0.49809241, 0.53666808, 0.55416944, 0.55865076, 0.58305577])]\n",
            "Y data-----------------\n",
            "[0.5780899897050809]\n",
            "(50, 20, 1)\n"
          ],
          "name": "stdout"
        }
      ]
    },
    {
      "cell_type": "markdown",
      "metadata": {
        "id": "QLytcMTYCjnN"
      },
      "source": [
        "Creating the training the model"
      ]
    },
    {
      "cell_type": "code",
      "metadata": {
        "id": "N4w_XWtYCi-F"
      },
      "source": [
        "# Building the model\n",
        "model = Sequential()\n",
        "model.add(LSTM(units=predictionLayers, return_sequences=True, input_shape=(x_train.shape[1], 1)))\n",
        "# Dropout randomly inputs 0s to help against overfitting (at a rate of 0.2)\n",
        "model.add(Dropout(0.2))\n",
        "model.add(LSTM(128))\n",
        "model.add(Dropout(0.2))\n",
        "model.add(Dense(units=1))\n",
        "\n"
      ],
      "execution_count": null,
      "outputs": []
    },
    {
      "cell_type": "code",
      "metadata": {
        "id": "ZMGqnw8jfA7V"
      },
      "source": [
        "graphStonks = pd.read_csv(\"./stonkdata.csv\")\n",
        "\n",
        "graphStonks.head()\n",
        "graphStonks['Close'].plot(label='GME', figsize=(16, 8), title='Adjusted Closing Price', color='red')\n",
        "plt.legend();"
      ],
      "execution_count": null,
      "outputs": []
    },
    {
      "cell_type": "markdown",
      "metadata": {
        "id": "NEp773okjI7B"
      },
      "source": [
        "Live Scrape code"
      ]
    },
    {
      "cell_type": "code",
      "metadata": {
        "id": "zE7ev55ji7l0"
      },
      "source": [
        "# REDDIT DATA SCRAPE\n",
        "#import asyncpraw\n",
        "#import nest_asyncio\n",
        "\n",
        "#async def main():\n",
        "#  reddit = asyncpraw.Reddit(client_id='ORNE1J4ncT_tGg', client_secret= 'sa-2SPPkOY-w_kMIBSeAostYFg804Q', user_agent='WSBAI:Python/urllib:v0.0.1 (by u/WSBAI_00123)', \n",
        "#                            username=\"WSBAI_00123\", password=\"lint$h@d0w,./\")\n",
        "#  wsb_sub = await reddit.subreddit('WallStreetBets')\n",
        "\n",
        "  \n",
        "#  i = 0\n",
        "#  print(reddit.read_only)\n",
        "#  posts = [] # posts that are good from keywords\n",
        "#  keywords = ['GME', 'gamestop', 'diamond', 'diamond hands', 'ape', 'apes']\n",
        "#  postIds = {}\n",
        "\n",
        "  # TODO: \n",
        "\n",
        "  # -Keyword list for relevant posts/comments\n",
        "  # -handle emojis\n",
        "  # -post id dictionary for posts already read through\n",
        "  # -possible CV of reddit posts if jpg/png\n",
        "  # -store into csv file\n",
        "\n",
        "#  async for submission in wsb_sub.new(limit=20):\n",
        "#    test = submission.downvote()\n",
        "    # submission.id\n",
        "    # submission.created_utc   CHECK FOR LESS THAN DAY OLD\n",
        "\n",
        "    # submission.title\n",
        "    # submission.num_comments\n",
        "    # submission.upvote_ratio\n",
        "    # submission.link_flair_text\n",
        "    # num text keywords\n",
        "    # num comment keywords\n",
        "\n",
        "\n",
        "    # submission.url           POSSIBLE IMG CHECKING\n",
        "    \n",
        "    # submission.score   ----MAY NOT NEED----\n",
        "    \n",
        "    \n",
        "    #---STUFF TO LOOP THROUGH TO COUNT NUM OF KEYWORDS--- comments, selftext\n",
        "    #submission.selftext\n",
        "    #comments = await submission.comments()\n",
        "    #for comment in comments:\n",
        "    #  print(comment.body)\n",
        "    #  print(comment.score)\n",
        "\n",
        "    #posts.append([post.title, post.score, post.id, post.subreddit, post.url, post.num_comments, post.selftext, post.created])\n",
        "  #posts = pd.DataFrame(posts,columns=['title', 'score', 'id', 'subreddit', 'url', 'num_comments', 'body', 'created'])\n",
        "\n",
        "\n",
        "\n",
        "#if __name__ == '__main__':\n",
        "#  nest_asyncio.apply()\n",
        "#  loop = asyncio.get_event_loop() \n",
        "#  loop.run_until_complete(main())\n"
      ],
      "execution_count": null,
      "outputs": []
    }
  ]
}