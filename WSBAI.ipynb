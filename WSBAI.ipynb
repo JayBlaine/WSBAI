{
  "nbformat": 4,
  "nbformat_minor": 0,
  "metadata": {
    "colab": {
      "name": "WSBAI.ipynb",
      "provenance": [],
      "collapsed_sections": [],
      "include_colab_link": true
    },
    "kernelspec": {
      "name": "python3",
      "display_name": "Python 3"
    },
    "language_info": {
      "name": "python"
    }
  },
  "cells": [
    {
      "cell_type": "markdown",
      "metadata": {
        "id": "view-in-github",
        "colab_type": "text"
      },
      "source": [
        "<a href=\"https://colab.research.google.com/github/JayBlaine/WSBAI/blob/main/WSBAI.ipynb\" target=\"_parent\"><img src=\"https://colab.research.google.com/assets/colab-badge.svg\" alt=\"Open In Colab\"/></a>"
      ]
    },
    {
      "cell_type": "markdown",
      "metadata": {
        "id": "oSwJMdWluSex"
      },
      "source": [
        "Regression model"
      ]
    },
    {
      "cell_type": "markdown",
      "metadata": {
        "id": "IHeHu1uERD29"
      },
      "source": [
        "### **DO NOT RUNTIME->RUN ALL, WILL CRASH RUNTIME AT LIVE PRAW SCRAPE DUE TO MEMORY CONSRTAINTS, MUST RUN INDIVIDUALLY**\n",
        "\n",
        "Code section for reading GMEs stock data\n"
      ]
    },
    {
      "cell_type": "code",
      "metadata": {
        "id": "j2O2tPGG8r5f"
      },
      "source": [
        "#!pip install asyncpraw\n",
        "#!pip install asyncio"
      ],
      "execution_count": 1,
      "outputs": []
    },
    {
      "cell_type": "code",
      "metadata": {
        "id": "x-hcxPujnnCi"
      },
      "source": [
        "import pandas as pd\n",
        "import numpy as np\n",
        "import pandas_datareader as web\n",
        "import datetime as dt\n",
        "from sklearn.preprocessing import MinMaxScaler\n",
        "from keras.models import Sequential\n",
        "from keras.layers import Dense, LSTM, Dropout\n",
        "import matplotlib.pyplot as plt\n",
        "import csv, math, os\n",
        "# Linear Regression model\n",
        "from __future__ import absolute_import, division, print_function, unicode_literals\n",
        "from IPython.display import clear_output\n",
        "from six.moves import urllib\n",
        "import tensorflow.compat.v2.feature_column as fc\n",
        "import tensorflow as tf\n",
        "# Reddit data scrape\n",
        "import asyncpraw\n",
        "import asyncio\n",
        "import nest_asyncio\n",
        "# Make numpy values easier to read.\n",
        "# Other model\n",
        "np.set_printoptions(precision=3, suppress=True)\n",
        "from tensorflow.keras import layers\n",
        "from tensorflow.keras.layers.experimental import preprocessing\n",
        "\n",
        "def main():\n",
        "    stonk = \"GME\"\n",
        "    start = dt.datetime(2021, 1, 1)\n",
        "    end = dt.datetime.today()\n",
        "\n",
        "    data = web.DataReader(stonk,'stooq', start, end).reset_index()\n",
        "    data.drop('High', 1, inplace=True)\n",
        "    data.drop('Low', 1, inplace=True)\n",
        "\n",
        "    data = data.to_csv(r'./stonkdata.csv', index=False, header=True)\n",
        "    \n",
        "if __name__ == '__main__':\n",
        "    main()"
      ],
      "execution_count": 1,
      "outputs": []
    },
    {
      "cell_type": "markdown",
      "metadata": {
        "id": "jWdM3Pl_b6gG"
      },
      "source": [
        ""
      ]
    },
    {
      "cell_type": "code",
      "metadata": {
        "id": "IEyY5U8DUgGM"
      },
      "source": [
        "# WSB data set read\n",
        "# DO NOT RUN AFTER LIVE SCRAPE STARTS\n",
        "# SERIOUSLY, YOU WILL RUIN DATASET ONCE LIVE SCRAPING BEGINS\n",
        "\n",
        "def gmeChecker(title, body):\n",
        "  gmeKeys = ['gme', 'gamestop', 'dfv', 'deep fucking value', 'citadel', 'ken griffin', 'keith', 'gill', 'roaring kitty', 'if he\\'s in', 'if hes in']\n",
        "  title = title.strip().lower()\n",
        "  body = body.strip().lower()\n",
        "  for key in gmeKeys:\n",
        "    # body and title\n",
        "    if key in title or key in body:\n",
        "      return True\n",
        "  return False\n",
        "\n",
        "def dateChecker(date1):\n",
        "  dtTemp = dt.datetime.strptime(date1, '%Y-%m-%d %H:%M:%S')\n",
        "  actDate = dtTemp.date()\n",
        "  return actDate\n",
        "\n",
        "dateStockData = []\n",
        "dateStockData = pd.read_csv('./stonkdata.csv', usecols=['Date', 'Open', 'Close'])\n",
        "newD = pd.DataFrame(dateStockData)\n",
        "newD = newD.iloc[::-1]\n",
        "lineCount = len(dateStockData)\n",
        "\n",
        "# date, reddit total posts, gme total posts, ratio of gme to total, \n",
        "# avg score of reddit posts, average score of gme posts, avg comments total, avg comments gme\n",
        "byDate = {}\n",
        "\n",
        "# https://www.kaggle.com/gpreda/reddit-wallstreetsbets-posts\n",
        "wsbDataframe = pd.read_csv(\"reddit_wsb.csv\")\n",
        "\n",
        "with open('reddit_wsb.csv') as csv_file: \n",
        "    csv_reader = csv.reader(csv_file, delimiter=',')\n",
        "    line_count = 0\n",
        "    for row in csv_reader:\n",
        "      if line_count > 1:\n",
        "        tempTitle = row[0]\n",
        "        tempScore = row[1]\n",
        "        tempCommNum = row[4]\n",
        "        tempBody = row[6]\n",
        "        tempDate = row[7]\n",
        "        tempPass = [tempTitle, tempScore, tempCommNum, tempBody, tempDate]\n",
        "        date1 = dateChecker(tempDate)\n",
        "\n",
        "        if date1 not in byDate.keys():\n",
        "          byDate[date1] = []\n",
        "          byDate[date1].append(tempPass)\n",
        "        else:\n",
        "          byDate[date1].append(tempPass)\n",
        "      line_count+=1\n",
        "\n",
        "redditPrelim = []\n",
        "\n",
        "for key in byDate.keys():\n",
        "  if key.year < 2021: #Gets rid of rogue row at 9/2020\n",
        "      continue\n",
        "  i=0\n",
        "  gmeCnt = 0\n",
        "  gmeCommTotal = 0\n",
        "  gmeUpTotal = 0\n",
        "  while i < len(byDate[key]):\n",
        "    gmeCheck = gmeChecker(byDate[key][i][0], byDate[key][i][3])\n",
        "    if gmeCheck:\n",
        "      gmeCnt+=1\n",
        "      gmeCommTotal+=int(byDate[key][i][2])\n",
        "      gmeUpTotal+=int(byDate[key][i][1])\n",
        "    i+=1\n",
        "  if i > 0 and gmeCnt > 0: # both posts and gme posts\n",
        "    redditPrelim.append([key, i, gmeCnt, gmeCnt/i, gmeUpTotal/gmeCnt, gmeCommTotal/gmeCnt])\n",
        "  elif i > 0: # no gme posts\n",
        "    redditPrelim.append([key, i, gmeCnt, gmeCnt/i, 0, 0])\n",
        "  else: # no posts\n",
        "    continue\n",
        "\n",
        "# print(redditPrelim)\n",
        "columns = dateStockData.filter([\"Date\"]).values\n",
        "with open('wsb_clean.csv', mode='w') as write_file:\n",
        "    writer = csv.writer(write_file, delimiter=',', quotechar='\"', quoting=csv.QUOTE_MINIMAL)\n",
        "    i=0\n",
        "    date=0\n",
        "    #TODO\n",
        "    writer.writerow(['Date', 'open', 'close', 'total posts', 'GME count', '% GME', 'avg GME upvotes', 'avg GME comments'])\n",
        "    while i < len(redditPrelim):\n",
        "      if str(redditPrelim[i][0]) in columns:\n",
        "        writer.writerow([redditPrelim[i][0], dateStockData['Open'][date], dateStockData['Close'][date], redditPrelim[i][1], \n",
        "                         redditPrelim[i][2], redditPrelim[i][3], redditPrelim[i][4], redditPrelim[i][5]])\n",
        "        date+=1\n",
        "      i+=1\n",
        "\n"
      ],
      "execution_count": 2,
      "outputs": []
    },
    {
      "cell_type": "code",
      "metadata": {
        "id": "zE7ev55ji7l0",
        "colab": {
          "base_uri": "https://localhost:8080/"
        },
        "outputId": "a4ffaec9-0104-48a3-a924-946b1b58a526"
      },
      "source": [
        "# REDDIT DATA SCRAPE\n",
        "\n",
        "async def reddo(posts):\n",
        "  reddit = asyncpraw.Reddit(client_id='ORNE1J4ncT_tGg', client_secret= 'sa-2SPPkOY-w_kMIBSeAostYFg804Q', user_agent='WSBAI:Python/urllib:v0.0.1 (by u/WSBAI_00123)', \n",
        "                            username=\"WSBAI_00123\", password=\"lint$h@d0w,./\")\n",
        "  wsb_sub = await reddit.subreddit('WallStreetBets')\n",
        "  \n",
        "  i = 0\n",
        "  print(reddit.read_only)\n",
        "\n",
        "  async for submission in wsb_sub.new(limit=600):\n",
        "    posts.append([submission.title, submission.score, submission.num_comments, submission.selftext, submission.created])\n",
        "  print(len(posts))\n",
        "  \n",
        "  await reddit.close()\n",
        "  return posts\n",
        "\n",
        "posts = []\n",
        "nest_asyncio.apply()\n",
        "loop = asyncio.get_event_loop() \n",
        "posts = loop.run_until_complete(reddo(posts))\n",
        "#print(posts)\n",
        "\n",
        "test_eval = []\n",
        "i=0\n",
        "gmeCnt = 0\n",
        "gmeCommTotal = 0\n",
        "gmeUpTotal = 0\n",
        "while i < len(posts):\n",
        "  gmeCheck = gmeChecker(posts[i][0], posts[i][3])\n",
        "  if gmeCheck:\n",
        "    gmeCnt+=1\n",
        "    gmeCommTotal+=int(posts[i][2])\n",
        "    gmeUpTotal+=int(posts[i][1])\n",
        "  i+=1\n",
        "if i > 0 and gmeCnt > 0: # both posts and gme posts\n",
        "  test_eval = [dt.date.today(), dateStockData['Open'][0], dateStockData['Close'][0], i, gmeCnt, gmeCnt/i, gmeUpTotal/gmeCnt, gmeCommTotal/gmeCnt]\n",
        "elif i > 0: # no gme posts\n",
        "  test_eval= [dt.date.today(), dateStockData['Open'][0], dateStockData['Close'][0], i, gmeCnt, gmeCnt/i, 0, 0]\n",
        "test_eval = pd.DataFrame([test_eval],columns=['Date', 'open', 'close', 'total posts', 'GME count', '% GME', 'avg GME upvotes', 'avg GME comments'])\n",
        "test_eval.to_csv('eval.csv')\n",
        "\n",
        "print(test_eval)\n"
      ],
      "execution_count": 15,
      "outputs": [
        {
          "output_type": "stream",
          "text": [
            "False\n",
            "564\n",
            "         Date   open   close  ...     % GME  avg GME upvotes  avg GME comments\n",
            "0  2021-04-23  159.1  151.17  ...  0.124113      4902.628571       1653.114286\n",
            "\n",
            "[1 rows x 8 columns]\n"
          ],
          "name": "stdout"
        }
      ]
    },
    {
      "cell_type": "markdown",
      "metadata": {
        "id": "a3w25VE4GRpV"
      },
      "source": [
        "Break"
      ]
    },
    {
      "cell_type": "code",
      "metadata": {
        "colab": {
          "base_uri": "https://localhost:8080/",
          "height": 459
        },
        "id": "68gMUp0j8wai",
        "outputId": "dd85edf0-dfae-4dd0-cc0c-a384cdc5484a"
      },
      "source": [
        "\n",
        "fullFile = pd.read_csv('wsb_clean.csv')\n",
        "testDataSize = len(fullFile)-1\n",
        "# Load dataset.\n",
        "dftrain = fullFile.head(testDataSize) # training data\n",
        "dfeval = pd.read_csv('eval.csv') # testing data\n",
        "\n",
        "\n",
        "dftrain.pop('Date')\n",
        "dfeval.pop('Date')\n",
        "y_train = dftrain.pop('close')\n",
        "y_eval = dfeval.pop('close')\n",
        "\n",
        "\n",
        "dataCol = ['open', 'total posts', 'GME count', '% GME', 'avg GME upvotes', 'avg GME comments']\n",
        "feature_col = []\n",
        "for feature in dataCol:\n",
        "  feature_col.append(tf.feature_column.numeric_column(feature, dtype=tf.float32))\n",
        "\n",
        "\n",
        "def make_input_fn(data, label, epochs=50, shuffle=True, batch=16):\n",
        "  def input_function():  # inner function, this will be returned\n",
        "    ds = tf.data.Dataset.from_tensor_slices((dict(data), label))  # create tf.data.Dataset object with data and its label\n",
        "    if shuffle:\n",
        "      ds = ds.shuffle(1000)  # randomize order of data\n",
        "    ds = ds.batch(batch).repeat(epochs)  # split dataset into batches of 32 and repeat process for number of epochs\n",
        "    return ds  # return a batch of the dataset\n",
        "  return input_function  # return a function object for use\n",
        "\n",
        "\n",
        "train_input_fn = make_input_fn(dftrain, y_train)  # here we will call the input_function that was returned to us to get a dataset object we can feed to the model\n",
        "eval_input_fn = make_input_fn(dfeval, y_eval, epochs=1, shuffle=False)\n",
        "\n",
        "\n",
        "linear_est = tf.estimator.LinearRegressor(feature_columns=feature_col)\n",
        "linear_est.train(train_input_fn)  # train\n",
        "result = linear_est.evaluate(eval_input_fn)  # get model metrics/stats by testing on testing data\n",
        "\n",
        "\n",
        "clear_output()  # clears consoke output\n",
        "print(result)  # the result variable is simply a dict of stats about our model\n",
        "\n",
        "\n",
        "pred_dicts = list(linear_est.predict(eval_input_fn))\n",
        "print(pred_dicts)\n",
        "\n",
        "\n",
        "prediction = pred_dicts[0]['predictions'][0]\n",
        "print(prediction)\n",
        "\n",
        "\n",
        "probs = pd.Series([pred['predictions'][0] for pred in pred_dicts]) # DELETE WHEN GRAPH IS DONE\n",
        "probs.plot(kind='hist', bins=20, title='predicted probabilities')"
      ],
      "execution_count": 16,
      "outputs": [
        {
          "output_type": "stream",
          "text": [
            "{'average_loss': 8.775918, 'label/mean': 151.17, 'loss': 8.775918, 'prediction/mean': 154.13242, 'global_step': 200}\n",
            "INFO:tensorflow:Calling model_fn.\n",
            "INFO:tensorflow:Done calling model_fn.\n",
            "INFO:tensorflow:Graph was finalized.\n",
            "INFO:tensorflow:Restoring parameters from /tmp/tmp787dx5_s/model.ckpt-200\n",
            "INFO:tensorflow:Running local_init_op.\n",
            "INFO:tensorflow:Done running local_init_op.\n",
            "[{'predictions': array([154.132], dtype=float32)}]\n",
            "154.13242\n"
          ],
          "name": "stdout"
        },
        {
          "output_type": "execute_result",
          "data": {
            "text/plain": [
              "<matplotlib.axes._subplots.AxesSubplot at 0x7feebc15e490>"
            ]
          },
          "metadata": {
            "tags": []
          },
          "execution_count": 16
        },
        {
          "output_type": "display_data",
          "data": {
            "image/png": "[encoded data removed]",
            "text/plain": [
              "<Figure size 432x288 with 1 Axes>"
            ]
          },
          "metadata": {
            "tags": [],
            "needs_background": "light"
          }
        }
      ]
    },
    {
      "cell_type": "markdown",
      "metadata": {
        "id": "OD4Xv_5Uyxpv"
      },
      "source": [
        "Creating Guess\n",
        "\n"
      ]
    },
    {
      "cell_type": "code",
      "metadata": {
        "id": "gum5IrJty1D2",
        "colab": {
          "base_uri": "https://localhost:8080/"
        },
        "outputId": "4c9f6720-8019-4b38-8cec-b1e8e8cd7855"
      },
      "source": [
        "daysToPredict = 62\n",
        "predictionLayers = 128\n",
        "\n",
        "# Open the stock data file\n",
        "stonkData = pd.read_csv('./stonkdata.csv') # format = Date, Open, Close, Volume\n",
        "\n",
        "# Reading only the closing prices\n",
        "# stonkWithDate = stonkData.filter(['Close'], ['Date'])\n",
        "stonkPrices = (stonkData.filter(['Close'])).values\n",
        "dataLength = len(stonkPrices)\n",
        "\n",
        "# If we only want to train half of the data\n",
        "#halfOfData = math.ceil(len(stonkPrices) * 0.5)\n",
        "\n",
        "# Scaling the data / Takes in the stock data and makes it into a number between 0 and 1\n",
        "dataScaler = MinMaxScaler(feature_range=(0,1))\n",
        "scaledData = dataScaler.fit_transform(stonkPrices).reshape(-1,1)\n",
        "\n",
        "# Spliting up the data for x and y training\n",
        "x_train = []\n",
        "y_train = []\n",
        "\n",
        "# Amount we wanted trained using the length of our data\n",
        "for x in range(daysToPredict, dataLength):\n",
        "  x_train.append(scaledData[x - daysToPredict:x, 0])\n",
        "  y_train.append(scaledData[x, 0])\n",
        "  if x <= daysToPredict:\n",
        "    print(f\"X data-----------------\\n{x_train}\\nY data-----------------\\n{y_train}\")\n",
        "\n",
        "x_train = np.array(x_train)\n",
        "y_train = np.array(x_train)\n",
        "\n",
        "# x_train = np.reshape(x_train, dataLength, daysToPredict, 1)\n",
        "x_train = np.reshape(x_train, (x_train.shape[0], x_train.shape[1], 1))\n",
        "\n",
        "# print(x_train.shape)\n",
        "# print(y_train.shape)\n"
      ],
      "execution_count": 5,
      "outputs": [
        {
          "output_type": "stream",
          "text": [
            "X data-----------------\n",
            "[array([0.405, 0.428, 0.428, 0.445, 0.416, 0.421, 0.452, 0.375, 0.375,\n",
            "       0.427, 0.463, 0.487, 0.506, 0.514, 0.527, 0.523, 0.537, 0.497,\n",
            "       0.496, 0.504, 0.312, 0.498, 0.537, 0.554, 0.559, 0.583, 0.578,\n",
            "       0.614, 0.749, 0.735, 0.75 , 0.695, 0.537, 0.365, 0.349, 0.324,\n",
            "       0.306, 0.312, 0.256, 0.277, 0.225, 0.084, 0.087, 0.071, 0.071,\n",
            "       0.087, 0.098, 0.106, 0.102, 0.103, 0.1  , 0.129, 0.141, 0.11 ,\n",
            "       0.228, 0.22 , 0.629, 0.932, 0.534, 1.   , 0.396, 0.18 ])]\n",
            "Y data-----------------\n",
            "[0.14461333494822265]\n"
          ],
          "name": "stdout"
        }
      ]
    },
    {
      "cell_type": "markdown",
      "metadata": {
        "id": "QLytcMTYCjnN"
      },
      "source": [
        "Creating the training the model"
      ]
    },
    {
      "cell_type": "code",
      "metadata": {
        "id": "N4w_XWtYCi-F",
        "colab": {
          "base_uri": "https://localhost:8080/"
        },
        "outputId": "378ba702-b7dd-419a-ff7d-b03b921fe4a9"
      },
      "source": [
        "# Building the model\n",
        "model = Sequential()\n",
        "model.add(LSTM(units=predictionLayers, return_sequences=True, input_shape=(x_train.shape[1], 1)))\n",
        "# Dropout randomly inputs 0s to help against overfitting (at a rate of 0.2)\n",
        "model.add(Dropout(0.2))\n",
        "model.add(LSTM(128))\n",
        "model.add(Dropout(0.2))\n",
        "model.add(Dense(units=1))\n",
        "\n",
        "model.compile(optimizer='adam', loss='mean_squared_error')\n",
        "model.fit(x_train, y_train, epochs=30, batch_size=8)"
      ],
      "execution_count": 6,
      "outputs": [
        {
          "output_type": "stream",
          "text": [
            "Epoch 1/30\n",
            "2/2 [==============================] - 3s 81ms/step - loss: 0.1744\n",
            "Epoch 2/30\n",
            "2/2 [==============================] - 0s 89ms/step - loss: 0.0752\n",
            "Epoch 3/30\n",
            "2/2 [==============================] - 0s 73ms/step - loss: 0.0798\n",
            "Epoch 4/30\n",
            "2/2 [==============================] - 0s 69ms/step - loss: 0.0638\n",
            "Epoch 5/30\n",
            "2/2 [==============================] - 0s 71ms/step - loss: 0.0641\n",
            "Epoch 6/30\n",
            "2/2 [==============================] - 0s 75ms/step - loss: 0.0657\n",
            "Epoch 7/30\n",
            "2/2 [==============================] - 0s 76ms/step - loss: 0.0655\n",
            "Epoch 8/30\n",
            "2/2 [==============================] - 0s 75ms/step - loss: 0.0626\n",
            "Epoch 9/30\n",
            "2/2 [==============================] - 0s 78ms/step - loss: 0.0597\n",
            "Epoch 10/30\n",
            "2/2 [==============================] - 0s 78ms/step - loss: 0.0625\n",
            "Epoch 11/30\n",
            "2/2 [==============================] - 0s 80ms/step - loss: 0.0597\n",
            "Epoch 12/30\n",
            "2/2 [==============================] - 0s 79ms/step - loss: 0.0581\n",
            "Epoch 13/30\n",
            "2/2 [==============================] - 0s 81ms/step - loss: 0.0598\n",
            "Epoch 14/30\n",
            "2/2 [==============================] - 0s 73ms/step - loss: 0.0587\n",
            "Epoch 15/30\n",
            "2/2 [==============================] - 0s 77ms/step - loss: 0.0573\n",
            "Epoch 16/30\n",
            "2/2 [==============================] - 0s 83ms/step - loss: 0.0575\n",
            "Epoch 17/30\n",
            "2/2 [==============================] - 0s 78ms/step - loss: 0.0578\n",
            "Epoch 18/30\n",
            "2/2 [==============================] - 0s 77ms/step - loss: 0.0571\n",
            "Epoch 19/30\n",
            "2/2 [==============================] - 0s 83ms/step - loss: 0.0583\n",
            "Epoch 20/30\n",
            "2/2 [==============================] - 0s 74ms/step - loss: 0.0577\n",
            "Epoch 21/30\n",
            "2/2 [==============================] - 0s 75ms/step - loss: 0.0572\n",
            "Epoch 22/30\n",
            "2/2 [==============================] - 0s 79ms/step - loss: 0.0580\n",
            "Epoch 23/30\n",
            "2/2 [==============================] - 0s 79ms/step - loss: 0.0575\n",
            "Epoch 24/30\n",
            "2/2 [==============================] - 0s 75ms/step - loss: 0.0571\n",
            "Epoch 25/30\n",
            "2/2 [==============================] - 0s 76ms/step - loss: 0.0586\n",
            "Epoch 26/30\n",
            "2/2 [==============================] - 0s 72ms/step - loss: 0.0568\n",
            "Epoch 27/30\n",
            "2/2 [==============================] - 0s 73ms/step - loss: 0.0564\n",
            "Epoch 28/30\n",
            "2/2 [==============================] - 0s 80ms/step - loss: 0.0564\n",
            "Epoch 29/30\n",
            "2/2 [==============================] - 0s 81ms/step - loss: 0.0576\n",
            "Epoch 30/30\n",
            "2/2 [==============================] - 0s 80ms/step - loss: 0.0563\n"
          ],
          "name": "stdout"
        },
        {
          "output_type": "execute_result",
          "data": {
            "text/plain": [
              "<tensorflow.python.keras.callbacks.History at 0x7feebc066ed0>"
            ]
          },
          "metadata": {
            "tags": []
          },
          "execution_count": 6
        }
      ]
    },
    {
      "cell_type": "markdown",
      "metadata": {
        "id": "W5sOi_78U2Om"
      },
      "source": [
        "How close the data got"
      ]
    },
    {
      "cell_type": "code",
      "metadata": {
        "id": "p7MldEuRUlaS",
        "colab": {
          "base_uri": "https://localhost:8080/"
        },
        "outputId": "05500c98-d646-4ef1-86c2-da4ae4a28ecf"
      },
      "source": [
        "test_data = pd.read_csv(\"./stonkdata.csv\")\n",
        "\n",
        "firstPart = test_data.iloc[0:10]['Close'].values\n",
        "\n",
        "# actual_prices = test_data['Close'].values\n",
        "\n",
        "print(firstPart)"
      ],
      "execution_count": 7,
      "outputs": [
        {
          "output_type": "stream",
          "text": [
            "[151.17 158.51 158.53 164.37 154.69 156.44 166.53 140.99 141.09 158.36]\n"
          ],
          "name": "stdout"
        }
      ]
    },
    {
      "cell_type": "code",
      "metadata": {
        "id": "ZMGqnw8jfA7V",
        "colab": {
          "base_uri": "https://localhost:8080/",
          "height": 499
        },
        "outputId": "413dcf12-6854-4954-8a23-7c25fea4f5cd"
      },
      "source": [
        "graphStonks = pd.read_csv(\"./stonkdata.csv\")\n",
        "\n",
        "graphStonks.head()\n",
        "graphStonks['Close'].plot(label='GME', figsize=(16, 8), title='Adjusted Closing Price', color='red')\n",
        "plt.legend();"
      ],
      "execution_count": 8,
      "outputs": [
        {
          "output_type": "display_data",
          "data": {
            "image/png": "[encoded data removed]",
            "text/plain": [
              "<Figure size 1152x576 with 1 Axes>"
            ]
          },
          "metadata": {
            "tags": [],
            "needs_background": "light"
          }
        }
      ]
    }
  ]
}