{
  "nbformat": 4,
  "nbformat_minor": 0,
  "metadata": {
    "colab": {
      "name": "WSBAI.ipynb",
      "provenance": [],
      "collapsed_sections": [],
      "include_colab_link": true
    },
    "kernelspec": {
      "name": "python3",
      "display_name": "Python 3"
    },
    "language_info": {
      "name": "python"
    }
  },
  "cells": [
    {
      "cell_type": "markdown",
      "metadata": {
        "id": "view-in-github",
        "colab_type": "text"
      },
      "source": [
        "<a href=\"https://colab.research.google.com/github/JayBlaine/WSBAI/blob/main/WSBAI.ipynb\" target=\"_parent\"><img src=\"https://colab.research.google.com/assets/colab-badge.svg\" alt=\"Open In Colab\"/></a>"
      ]
    },
    {
      "cell_type": "markdown",
      "metadata": {
        "id": "oSwJMdWluSex"
      },
      "source": [
        "Regression model"
      ]
    },
    {
      "cell_type": "markdown",
      "metadata": {
        "id": "IHeHu1uERD29"
      },
      "source": [
        "### **DO NOT RUNTIME->RUN ALL, WILL CRASH RUNTIME AT LIVE PRAW SCRAPE DUE TO MEMORY CONSRTAINTS, MUST RUN INDIVIDUALLY**\n",
        "\n",
        "Code section for reading GMEs stock data\n"
      ]
    },
    {
      "cell_type": "code",
      "metadata": {
        "id": "j2O2tPGG8r5f"
      },
      "source": [
        "!pip install asyncpraw\n",
        "!pip install asyncio"
      ],
      "execution_count": null,
      "outputs": []
    },
    {
      "cell_type": "markdown",
      "metadata": {
        "id": "Chzjo0LvzGVi"
      },
      "source": [
        "Imports and getting stock data"
      ]
    },
    {
      "cell_type": "code",
      "metadata": {
        "id": "x-hcxPujnnCi"
      },
      "source": [
        "import pandas as pd\n",
        "import numpy as np\n",
        "import pandas_datareader as web\n",
        "import datetime as dt\n",
        "from sklearn.preprocessing import MinMaxScaler\n",
        "from keras.models import Sequential\n",
        "from keras.layers import Dense, LSTM, Dropout\n",
        "import matplotlib.pyplot as plt\n",
        "import csv, math, os, random\n",
        "# Linear Regression model\n",
        "from __future__ import absolute_import, division, print_function, unicode_literals\n",
        "from IPython.display import clear_output\n",
        "from six.moves import urllib\n",
        "import tensorflow.compat.v2.feature_column as fc\n",
        "import tensorflow as tf\n",
        "# Reddit data scrape\n",
        "import asyncpraw\n",
        "import asyncio\n",
        "import nest_asyncio\n",
        "# Make numpy values easier to read.\n",
        "# Other model\n",
        "np.set_printoptions(precision=3, suppress=True)\n",
        "from tensorflow.keras import layers\n",
        "from tensorflow.keras.layers.experimental import preprocessing\n",
        "\n",
        "def main(): # Getting prices (only open, close, vol) for stock data for each day market is open\n",
        "    stonk = \"GME\"\n",
        "    start = dt.datetime(2021, 1, 1)\n",
        "    end = dt.datetime.today()\n",
        "\n",
        "    data = web.DataReader(stonk,'stooq', start, end).reset_index()\n",
        "    data.drop('High', 1, inplace=True)\n",
        "    data.drop('Low', 1, inplace=True)\n",
        "    \n",
        "    data = data.to_csv(r'./stonkdata.csv', index=False, header=True)\n",
        "    \n",
        "    \n",
        "if __name__ == '__main__':\n",
        "    main()"
      ],
      "execution_count": null,
      "outputs": []
    },
    {
      "cell_type": "markdown",
      "metadata": {
        "id": "jWdM3Pl_b6gG"
      },
      "source": [
        "# Preparing data"
      ]
    },
    {
      "cell_type": "code",
      "metadata": {
        "id": "IEyY5U8DUgGM"
      },
      "source": [
        "# WSB data set read (TRAINING DATA)\n",
        "\n",
        "def gmeChecker(title, body): # checks if title or body of post contains any of these key words\n",
        "  gmeKeys = ['gme', 'gamestop', 'dfv', 'deep fucking value', 'citadel', 'ken griffin', 'keith', 'gill', 'roaring kitty', 'if he\\'s in', 'if hes in']\n",
        "  title = title.strip().lower()\n",
        "  body = body.strip().lower()\n",
        "  for key in gmeKeys:\n",
        "    # body and title\n",
        "    if key in title or key in body:\n",
        "      return True\n",
        "  return False\n",
        "\n",
        "def dateChecker(date1): # Cleans data from datetime to just date\n",
        "  dtTemp = dt.datetime.strptime(date1, '%Y-%m-%d %H:%M:%S')\n",
        "  actDate = dtTemp.date()\n",
        "  return actDate\n",
        "\n",
        "\n",
        "# FOR READING INTO CLEAN DATASET, COMPARING DATE TO REDDIT DATE DICT\n",
        "dateStockData = []\n",
        "dateStockData = pd.read_csv('./stonkdata.csv', usecols=['Date', 'Open', 'Close'])\n",
        "newD = pd.DataFrame(dateStockData)\n",
        "newD = newD.iloc[::-1]\n",
        "lineCount = len(dateStockData)\n",
        "\n",
        "# date, reddit total posts, gme total posts, ratio of gme to total, \n",
        "# avg score of reddit posts, average score of gme posts, avg comments total, avg comments gme\n",
        "byDate = {}\n",
        "\n",
        "# https://www.kaggle.com/gpreda/reddit-wallstreetsbets-posts\n",
        "\n",
        "with open('reddit_wsb.csv') as csv_file: # Stores post data in list to be parsed by date before checking if gme post or not\n",
        "  csv_reader = csv.reader(csv_file, delimiter=',')\n",
        "  line_count = 0\n",
        "  for row in csv_reader:\n",
        "    if line_count > 1:\n",
        "      tempTitle = row[0]\n",
        "      tempScore = row[1]\n",
        "      tempCommNum = row[4]\n",
        "      tempBody = row[6]\n",
        "      tempDate = row[7]\n",
        "      tempPass = [tempTitle, tempScore, tempCommNum, tempBody, tempDate]\n",
        "      date1 = dateChecker(tempDate) # Check the day of that post\n",
        "\n",
        "      if date1 not in byDate.keys(): # if dictionary of posts for that day DNE, create key\n",
        "        byDate[date1] = []\n",
        "        byDate[date1].append(tempPass)\n",
        "      else:                          # else, append\n",
        "        byDate[date1].append(tempPass)\n",
        "    line_count+=1\n",
        "\n",
        "redditPrelim = []\n",
        "\n",
        "for key in byDate.keys():\n",
        "  if key.year < 2021: # Gets rid of rogue row at 9/2020\n",
        "      continue\n",
        "  i=0\n",
        "  gmeCnt = 0\n",
        "  gmeCommTotal = 0\n",
        "  gmeUpTotal = 0\n",
        "  while i < len(byDate[key]):\n",
        "    gmeCheck = gmeChecker(byDate[key][i][0], byDate[key][i][3]) # Checks if GME keywords are mentioned in title of body\n",
        "    if gmeCheck:\n",
        "      gmeCnt+=1\n",
        "      gmeCommTotal+=int(byDate[key][i][2])\n",
        "      gmeUpTotal+=int(byDate[key][i][1])\n",
        "    i+=1\n",
        "  if i > 0 and gmeCnt > 0: # day has both posts and gme posts\n",
        "    redditPrelim.append([key, i, gmeCnt, gmeCnt/i, gmeUpTotal/gmeCnt, gmeCommTotal/gmeCnt])\n",
        "  elif i > 0: # no gme posts\n",
        "    redditPrelim.append([key, i, gmeCnt, gmeCnt/i, 0, 0])\n",
        "  else: # no posts\n",
        "    continue\n",
        "\n",
        "\n",
        "columns = dateStockData.filter(['Date']).values\n",
        "with open('wsb_clean.csv', mode='w') as write_file:\n",
        "  writer = csv.writer(write_file, delimiter=',', quotechar='\"', quoting=csv.QUOTE_MINIMAL)\n",
        "  i=0\n",
        "  date=0\n",
        "  #TODO\n",
        "  writer.writerow(['Date', 'open', 'close', 'total posts', 'GME count', '% GME', 'avg GME upvotes', 'avg GME comments'])\n",
        "  while i < len(redditPrelim):\n",
        "    if str(redditPrelim[i][0]) in columns:\n",
        "      writer.writerow([redditPrelim[i][0], dateStockData['Open'][date], dateStockData['Close'][date], redditPrelim[i][1], \n",
        "                       redditPrelim[i][2], redditPrelim[i][3], redditPrelim[i][4], redditPrelim[i][5]])\n",
        "      date+=1\n",
        "    i+=1\n",
        "\n"
      ],
      "execution_count": null,
      "outputs": []
    },
    {
      "cell_type": "markdown",
      "metadata": {
        "id": "WbqDzEmIwmRP"
      },
      "source": [
        "Reddit Data Scrape for practical evaluation"
      ]
    },
    {
      "cell_type": "code",
      "metadata": {
        "id": "zE7ev55ji7l0"
      },
      "source": [
        "# REDDIT EVAL DATA SCRAPE\n",
        "\n",
        "async def reddo(posts):\n",
        "  reddit = asyncpraw.Reddit(client_id='ORNE1J4ncT_tGg', client_secret= 'sa-2SPPkOY-w_kMIBSeAostYFg804Q', user_agent='WSBAI:Python/urllib:v0.0.1 (by u/WSBAI_00123)', \n",
        "                            username=\"WSBAI_00123\", password=\"lint$h@d0w,./\") # reddit account data\n",
        "  wsb_sub = await reddit.subreddit('WallStreetBets') # subreddit to scrape\n",
        "  \n",
        "  i = 0\n",
        "  # print(reddit.read_only)\n",
        "\n",
        "  async for submission in wsb_sub.new(limit=600): # loop through 600 most recent posts in subreddit. breaks if too big\n",
        "    posts.append([submission.title, submission.score, submission.num_comments, submission.selftext, submission.created])\n",
        "  # print(len(posts))\n",
        "  \n",
        "  await reddit.close()\n",
        "  return posts\n",
        "\n",
        "\n",
        "posts = []\n",
        "nest_asyncio.apply()\n",
        "loop = asyncio.get_event_loop() \n",
        "posts = loop.run_until_complete(reddo(posts)) # stores list of most recent posts, runs async\n",
        "\n",
        "\n",
        "test_eval = []\n",
        "i=0\n",
        "gmeCnt = 0\n",
        "gmeCommTotal = 0\n",
        "gmeUpTotal = 0\n",
        "\n",
        "while i < len(posts):\n",
        "  gmeCheck = gmeChecker(posts[i][0], posts[i][3]) # Checks if GME keywords are mentioned, function in above block\n",
        "  if gmeCheck:\n",
        "    gmeCnt+=1\n",
        "    gmeCommTotal+=int(posts[i][2])\n",
        "    gmeUpTotal+=int(posts[i][1])\n",
        "\n",
        "  i+=1\n",
        "if i > 0 and gmeCnt > 0: # both posts and gme posts\n",
        "  test_eval = [dt.date.today(), dateStockData['Open'][0], dateStockData['Close'][0], i, gmeCnt, gmeCnt/i, gmeUpTotal/gmeCnt, gmeCommTotal/gmeCnt]\n",
        "elif i > 0: # no gme posts\n",
        "  test_eval= [dt.date.today(), dateStockData['Open'][0], dateStockData['Close'][0], i, gmeCnt, gmeCnt/i, 0, 0]\n",
        "test_eval = pd.DataFrame([test_eval],columns=['Date', 'open', 'close', 'total posts', 'GME count', '% GME', 'avg GME upvotes', 'avg GME comments'])\n",
        "test_eval.to_csv('eval.csv')\n",
        "\n",
        "# print(test_eval)\n"
      ],
      "execution_count": null,
      "outputs": []
    },
    {
      "cell_type": "markdown",
      "metadata": {
        "id": "a3w25VE4GRpV"
      },
      "source": [
        "# Creating guess for **Moon**"
      ]
    },
    {
      "cell_type": "code",
      "metadata": {
        "colab": {
          "base_uri": "https://localhost:8080/"
        },
        "id": "68gMUp0j8wai",
        "outputId": "b21c4257-0a34-4ebb-d180-99c6a1277d16"
      },
      "source": [
        "\n",
        "fullFile = pd.read_csv('wsb_clean.csv')\n",
        "testDataSize = len(fullFile)-1\n",
        "# Load dataset.\n",
        "dftrain = fullFile.head(testDataSize) # training data\n",
        "dfeval = pd.read_csv('eval.csv') # testing data\n",
        "\n",
        "\n",
        "dftrain.pop('Date') # redundant, leftover from scrape to combine two datasets\n",
        "dfeval.pop('Date')\n",
        "y_train = dftrain.pop('close') # goal column\n",
        "y_eval = dfeval.pop('close')\n",
        "\n",
        "\n",
        "dataCol = ['open', 'total posts', 'GME count', '% GME', 'avg GME upvotes', 'avg GME comments'] # numerical columns for daily metadata\n",
        "featureCol = []\n",
        "for feature in dataCol:\n",
        "  featureCol.append(tf.feature_column.numeric_column(feature, dtype=tf.float32))\n",
        "\n",
        "\n",
        "def make_input_fn(data, label, epochs=100, shuffle=True, batch=16):\n",
        "  def input_function():\n",
        "    ds = tf.data.Dataset.from_tensor_slices((dict(data), label))  # create tf.data.Dataset object with data and its label\n",
        "    if shuffle:\n",
        "      ds = ds.shuffle(1000)  # randomize data to prevent overfit\n",
        "    ds = ds.batch(batch).repeat(epochs)  # split dataset into batches of 16 and repeat for num Epochs\n",
        "    return ds  # return ds batch\n",
        "  return input_function  # return inner function\n",
        "\n",
        "\n",
        "train_input_fn = make_input_fn(dftrain, y_train)  # get dataset object to feed to model\n",
        "eval_input_fn = make_input_fn(dfeval, y_eval, epochs=1, shuffle=False) # off shuffle since one col, 1 epoch to get prediction\n",
        "\n",
        "\n",
        "linear_est = tf.estimator.LinearRegressor(feature_columns=featureCol)\n",
        "linear_est.train(train_input_fn)  # train\n",
        "result = linear_est.evaluate(eval_input_fn)  # get model metrics/stats by testing on eval data\n",
        "\n",
        "\n",
        "clear_output()  # clears consoke output\n",
        "# print(result)  # the result variable is simply a dict of stats about our model\n",
        "\n",
        "\n",
        "pred_dicts = list(linear_est.predict(eval_input_fn))\n",
        "prediction = pred_dicts[0]['predictions'][0]\n",
        "# print(prediction)\n",
        "\n"
      ],
      "execution_count": null,
      "outputs": [
        {
          "output_type": "stream",
          "text": [
            "INFO:tensorflow:Calling model_fn.\n",
            "INFO:tensorflow:Done calling model_fn.\n",
            "INFO:tensorflow:Graph was finalized.\n",
            "INFO:tensorflow:Restoring parameters from /tmp/tmpgp9iprh6/model.ckpt-400\n",
            "INFO:tensorflow:Running local_init_op.\n",
            "INFO:tensorflow:Done running local_init_op.\n"
          ],
          "name": "stdout"
        }
      ]
    },
    {
      "cell_type": "markdown",
      "metadata": {
        "id": "OD4Xv_5Uyxpv"
      },
      "source": [
        "# Creating guess for **Buffet**\n",
        "\n",
        "*Credit for help: NeuralNine on YouTube*\n"
      ]
    },
    {
      "cell_type": "code",
      "metadata": {
        "id": "gum5IrJty1D2"
      },
      "source": [
        "daysToPredict = 60\n",
        "predictionLayers = 128\n",
        "\n",
        "\n",
        "stonkData = pd.read_csv('./stonkdata.csv') # format = Date, Open, Close, Volume\n",
        "stonkData = stonkData[0:(len(stonkData)-1)]\n",
        "\n",
        "# Reading only the closing prices\n",
        "stonkPrices = (stonkData.filter(['Close'])).values\n",
        "dataLength = len(stonkPrices)\n",
        "\n",
        "# Squash data\n",
        "dataScaler = MinMaxScaler(feature_range=(0,1))\n",
        "scaledData = dataScaler.fit_transform(stonkPrices).reshape(-1,1)\n",
        "\n",
        "# Spliting up the data for x and y training\n",
        "x_train = []\n",
        "y_train = []\n",
        "\n",
        "# Amount we wanted trained using the length of our data\n",
        "# Starts from the days we want to predict to the end\n",
        "for x in range(daysToPredict, dataLength):\n",
        "  x_train.append(scaledData[x - daysToPredict:x, 0])\n",
        "  y_train.append(scaledData[x, 0])\n",
        "  # if x <= daysToPredict:\n",
        "  #   print(f\"X data-----------------\\n{x_train}\\nY data-----------------\\n{y_train}\")\n",
        "\n",
        "x_train = np.array(x_train)\n",
        "y_train = np.array(x_train)\n",
        "\n",
        "# x_train = np.reshape(x_train, dataLength, daysToPredict, 1)\n",
        "x_train = np.reshape(x_train, (x_train.shape[0], x_train.shape[1], 1))"
      ],
      "execution_count": null,
      "outputs": []
    },
    {
      "cell_type": "markdown",
      "metadata": {
        "id": "QLytcMTYCjnN"
      },
      "source": [
        "Creating the training the model"
      ]
    },
    {
      "cell_type": "code",
      "metadata": {
        "id": "N4w_XWtYCi-F",
        "colab": {
          "base_uri": "https://localhost:8080/"
        },
        "outputId": "358c79a2-bb53-4590-ce56-8a3a1af74531"
      },
      "source": [
        "# Building the model\n",
        "model = Sequential()\n",
        "model.add(LSTM(units=predictionLayers, return_sequences=True, input_shape=(x_train.shape[1], 1)))\n",
        "# Dropout randomly inputs 0s to help against overfitting (at a rate of 0.2)\n",
        "model.add(Dropout(0.2))\n",
        "model.add(LSTM(units = predictionLayers))\n",
        "model.add(Dense(units=1))\n",
        "\n",
        "model.compile(optimizer='adam', loss='mean_squared_error')\n",
        "model.fit(x_train, y_train, epochs=16, batch_size=8)"
      ],
      "execution_count": null,
      "outputs": [
        {
          "output_type": "stream",
          "text": [
            "Epoch 1/16\n",
            "3/3 [==============================] - 4s 98ms/step - loss: 0.1310\n",
            "Epoch 2/16\n",
            "3/3 [==============================] - 0s 98ms/step - loss: 0.0656\n",
            "Epoch 3/16\n",
            "3/3 [==============================] - 0s 97ms/step - loss: 0.0540\n",
            "Epoch 4/16\n",
            "3/3 [==============================] - 0s 88ms/step - loss: 0.0602\n",
            "Epoch 5/16\n",
            "3/3 [==============================] - 0s 84ms/step - loss: 0.0552\n",
            "Epoch 6/16\n",
            "3/3 [==============================] - 0s 94ms/step - loss: 0.0550\n",
            "Epoch 7/16\n",
            "3/3 [==============================] - 0s 84ms/step - loss: 0.0531\n",
            "Epoch 8/16\n",
            "3/3 [==============================] - 0s 91ms/step - loss: 0.0525\n",
            "Epoch 9/16\n",
            "3/3 [==============================] - 0s 87ms/step - loss: 0.0514\n",
            "Epoch 10/16\n",
            "3/3 [==============================] - 0s 89ms/step - loss: 0.0507\n",
            "Epoch 11/16\n",
            "3/3 [==============================] - 0s 88ms/step - loss: 0.0498\n",
            "Epoch 12/16\n",
            "3/3 [==============================] - 0s 89ms/step - loss: 0.0518\n",
            "Epoch 13/16\n",
            "3/3 [==============================] - 0s 90ms/step - loss: 0.0497\n",
            "Epoch 14/16\n",
            "3/3 [==============================] - 0s 96ms/step - loss: 0.0509\n",
            "Epoch 15/16\n",
            "3/3 [==============================] - 0s 87ms/step - loss: 0.0505\n",
            "Epoch 16/16\n",
            "3/3 [==============================] - 0s 87ms/step - loss: 0.0488\n"
          ],
          "name": "stdout"
        },
        {
          "output_type": "execute_result",
          "data": {
            "text/plain": [
              "<tensorflow.python.keras.callbacks.History at 0x7f87d83d8590>"
            ]
          },
          "metadata": {
            "tags": []
          },
          "execution_count": 7
        }
      ]
    },
    {
      "cell_type": "markdown",
      "metadata": {
        "id": "lnxn4nKzyUOu"
      },
      "source": [
        "Testing"
      ]
    },
    {
      "cell_type": "code",
      "metadata": {
        "id": "p7MldEuRUlaS"
      },
      "source": [
        "dataTest = pd.read_csv(\"./stonkdata.csv\")\n",
        "dataTest = dataTest.loc[::-1].reset_index(drop = True)\n",
        "firstPart = dataTest['Close'].values\n",
        "\n",
        "model_in = firstPart[len(stonkData) - daysToPredict:]\n",
        "model_in = model_in.reshape(-1, 1)\n",
        "model_in = dataScaler.transform(model_in)\n",
        "\n",
        "testX = []\n",
        "\n",
        "for x in range(daysToPredict, len(model_in)):\n",
        "  testX.append(model_in[x-daysToPredict:x, 0])\n",
        "testX = np.array(testX)\n",
        "testX = np.reshape(testX, (testX.shape[0], testX.shape[1], 1))\n",
        "\n",
        "prePrice = model.predict(testX)\n",
        "prePrice = dataScaler.inverse_transform(prePrice)\n",
        "# print(prePrice[0][0])"
      ],
      "execution_count": null,
      "outputs": []
    },
    {
      "cell_type": "markdown",
      "metadata": {
        "id": "N2v9rbhEm-YF"
      },
      "source": [
        "# Creating guess for **Blackjack**"
      ]
    },
    {
      "cell_type": "code",
      "metadata": {
        "id": "52RTaHsFm9wY"
      },
      "source": [
        "guessData = dataTest['Close'].values\n",
        "guessData = guessData[-11:]\n",
        "\n",
        "numRange = 0\n",
        "comp = guessData[0]\n",
        "down = 1\n",
        "up = 1\n",
        "mx = 0\n",
        "mn = 9999\n",
        "guess = -1\n",
        "\n",
        "for i in guessData[1:]:\n",
        "  if i > mx:\n",
        "    mx = i\n",
        "  if i < mn:\n",
        "    mn = i\n",
        "  if comp < i:\n",
        "    up += 1\n",
        "  elif comp > i:\n",
        "    down += 1\n",
        "  comp = i\n",
        "\n",
        "if up > down:\n",
        "  numRange = ((up/down) * round(random.uniform(0.2, 2.41), 2)) / 10\n",
        "  guess = round(random.uniform(mn, mx(1+numRange)), 2)\n",
        "else:\n",
        "  numRange = ((down/up) * round(random.uniform(0.2, 2.41), 2)) / 10\n",
        "  guess = round(random.uniform(mn*(1+numRange), mx), 2)\n",
        "\n",
        "# print(guess)"
      ],
      "execution_count": null,
      "outputs": []
    },
    {
      "cell_type": "markdown",
      "metadata": {
        "id": "DuW8PWpBm-q3"
      },
      "source": [
        "# Graph and final output"
      ]
    },
    {
      "cell_type": "code",
      "metadata": {
        "id": "ZMGqnw8jfA7V",
        "colab": {
          "base_uri": "https://localhost:8080/",
          "height": 567
        },
        "outputId": "d1386d5c-0064-4191-ffe5-6106f68dc0ea"
      },
      "source": [
        "graphStonks = pd.read_csv(\"./stonkdata.csv\")\n",
        "graphStonks = graphStonks.loc[::-1].reset_index(drop = True)\n",
        "\n",
        "# print(graphStonks)\n",
        "# graphStonks.head()\n",
        "graphStonks['Close'].plot(label='GME', figsize=(16, 8), title='Adjusted Closing Price', color='red')\n",
        "plt.scatter(len(graphStonks.index), prediction, c='blue', label='Moon')\n",
        "plt.scatter(len(graphStonks.index), prePrice[0][0], c='green', label='Buffett')\n",
        "plt.scatter(len(graphStonks.index), guess, c='black', label='Blackjack')\n",
        "plt.legend();\n",
        "print(\"MOON: %0.3f\\nBUFFET: %0.3f\\nBLACKJACK: %0.3f\\nACTUAL: %0.3f\" % (prediction, prePrice[0][0], guess, dateStockData['Close'][0]))"
      ],
      "execution_count": null,
      "outputs": [
        {
          "output_type": "stream",
          "text": [
            "MOON: 175.908\n",
            "BUFFET: 172.159\n",
            "BLACKJACK: 171.780\n",
            "ACTUAL: 162.200\n"
          ],
          "name": "stdout"
        },
        {
          "output_type": "display_data",
          "data": {
            "image/png": "[encoded data removed]",
            "text/plain": [
              "<Figure size 1152x576 with 1 Axes>"
            ]
          },
          "metadata": {
            "tags": [],
            "needs_background": "light"
          }
        }
      ]
    }
  ]
}